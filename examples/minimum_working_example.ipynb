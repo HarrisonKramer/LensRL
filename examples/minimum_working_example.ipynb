{
 "cells": [
  {
   "cell_type": "code",
   "execution_count": 1,
   "metadata": {},
   "outputs": [],
   "source": [
    "import sys\n",
    "import os\n",
    "\n",
    "# Add parent directory to path - this is where lensrl resides\n",
    "parent_dir = os.path.abspath(\"..\")\n",
    "sys.path.append(parent_dir)\n",
    "\n",
    "from lensrl.environment import LensDesignEnv\n",
    "from lensrl.rewards import (\n",
    "    RMSReward,\n",
    "    ComplexityReward,\n",
    "    ApertureFOVReward,\n",
    "    CompositeReward,\n",
    "    CompletionReward\n",
    ")\n",
    "from lensrl.normalization import normalizer\n",
    "from lensrl.configurable_optic import ConfigurableOptic"
   ]
  },
  {
   "cell_type": "markdown",
   "metadata": {},
   "source": [
    "# Define rewards\n",
    "\n",
    "- RMS spot size reward - rewards systems with small RMS spot sizes\n",
    "- Complexity reward - penalizes complex systems\n",
    "- Aperture/FOV reward - rewards larger aperture (e.g., entrance pupil diameters) and large fields of view\n",
    "- Completion reward - the final reward given at the end of an episode\n",
    "- Composite rewards merge rewards into a single reward, which can be passed to the lens design environment"
   ]
  },
  {
   "cell_type": "code",
   "execution_count": 2,
   "metadata": {},
   "outputs": [],
   "source": [
    "rms_reward = RMSReward(weight=100.0, include_delta=True, delta_weight=1.0)\n",
    "complexity_reward = ComplexityReward(weight=0.1)\n",
    "aperture_fov_reward = ApertureFOVReward(aperture_weight=1.0, fov_weight=0.1)\n",
    "completion_reward = CompletionReward(target_fov=10.0, target_rms=0.0, weight=1000.0)\n",
    "\n",
    "composite_reward = CompositeReward([rms_reward, complexity_reward, aperture_fov_reward, completion_reward])"
   ]
  },
  {
   "cell_type": "markdown",
   "metadata": {},
   "source": [
    "# Define Lens Design Environment\n",
    "\n",
    "We pass the reward to this environment."
   ]
  },
  {
   "cell_type": "code",
   "execution_count": 3,
   "metadata": {},
   "outputs": [],
   "source": [
    "env = LensDesignEnv(reward=composite_reward)"
   ]
  },
  {
   "cell_type": "markdown",
   "metadata": {},
   "source": [
    "# Run the environment over 5 random steps\n",
    "\n",
    "- more details on the available actions can be found in `actions.py`\n",
    "- `spaces.py` contains the action and observation space definitions"
   ]
  },
  {
   "cell_type": "code",
   "execution_count": null,
   "metadata": {},
   "outputs": [
    {
     "name": "stdout",
     "output_type": "stream",
     "text": [
      "╒════╤═════════════════╤══════════╤═════════════╤════════════╤═════════╤═════════════════╕\n",
      "│    │ Type            │   Radius │   Thickness │ Material   │   Conic │   Semi-aperture │\n",
      "╞════╪═════════════════╪══════════╪═════════════╪════════════╪═════════╪═════════════════╡\n",
      "│  0 │ Planar          │  inf     │   inf       │ Air        │       0 │       5.25021   │\n",
      "│  1 │ Stop - Standard │   56.5   │     7.54301 │ N-FK51     │       0 │       5.25021   │\n",
      "│  2 │ Standard        │ -670.967 │    99.8911  │ Air        │       0 │       5.02079   │\n",
      "│  3 │ Planar          │  inf     │   nan       │ Air        │       0 │       0.0262373 │\n",
      "╘════╧═════════════════╧══════════╧═════════════╧════════════╧═════════╧═════════════════╛\n",
      "╒════╤═════════════════╤═══════════╤═════════════╤════════════╤═════════╤═════════════════╕\n",
      "│    │ Type            │    Radius │   Thickness │ Material   │   Conic │   Semi-aperture │\n",
      "╞════╪═════════════════╪═══════════╪═════════════╪════════════╪═════════╪═════════════════╡\n",
      "│  0 │ Planar          │  inf      │   inf       │ Air        │       0 │       5.24377   │\n",
      "│  1 │ Stop - Standard │   72.6937 │     7.54301 │ N-LAK34    │       0 │       5.24377   │\n",
      "│  2 │ Standard        │ -671.049  │    99.7733  │ Air        │       0 │       5.01432   │\n",
      "│  3 │ Planar          │  inf      │   nan       │ Air        │       0 │       0.0256604 │\n",
      "╘════╧═════════════════╧═══════════╧═════════════╧════════════╧═════════╧═════════════════╛\n",
      "╒════╤═════════════════╤═══════════╤═════════════╤════════════╤═════════╤═════════════════╕\n",
      "│    │ Type            │    Radius │   Thickness │ Material   │   Conic │   Semi-aperture │\n",
      "╞════╪═════════════════╪═══════════╪═════════════╪════════════╪═════════╪═════════════════╡\n",
      "│  0 │ Planar          │  inf      │   inf       │ Air        │       0 │       5.24722   │\n",
      "│  1 │ Stop - Standard │   65.1878 │     7.54301 │ N-SK2HT    │       0 │       5.24722   │\n",
      "│  2 │ Standard        │ -670.977  │    99.8249  │ Air        │       0 │       5.01779   │\n",
      "│  3 │ Planar          │  inf      │   nan       │ Air        │       0 │       0.0265445 │\n",
      "╘════╧═════════════════╧═══════════╧═════════════╧════════════╧═════════╧═════════════════╛\n",
      "╒════╤═════════════════╤══════════╤═════════════╤════════════╤═════════╤═════════════════╕\n",
      "│    │ Type            │   Radius │   Thickness │ Material   │   Conic │   Semi-aperture │\n",
      "╞════╪═════════════════╪══════════╪═════════════╪════════════╪═════════╪═════════════════╡\n",
      "│  0 │ Planar          │  inf     │   inf       │ Air        │       0 │       7.8389    │\n",
      "│  1 │ Standard        │  386.184 │     3.23627 │ N-LASF31A  │       0 │       7.8389    │\n",
      "│  2 │ Standard        │ -284.017 │    74.0828  │ Air        │       0 │       7.80809   │\n",
      "│  3 │ Stop - Standard │  395.966 │     7.54301 │ N-SK2HT    │       0 │       4.68192   │\n",
      "│  4 │ Standard        │ -675.898 │    88.0611  │ Air        │       0 │       4.45019   │\n",
      "│  5 │ Planar          │  inf     │   nan       │ Air        │       0 │       0.0471389 │\n",
      "╘════╧═════════════════╧══════════╧═════════════╧════════════╧═════════╧═════════════════╛\n",
      "╒════╤═════════════════╤══════════╤═════════════╤════════════╤═════════╤═════════════════╕\n",
      "│    │ Type            │   Radius │   Thickness │ Material   │   Conic │   Semi-aperture │\n",
      "╞════╪═════════════════╪══════════╪═════════════╪════════════╪═════════╪═════════════════╡\n",
      "│  0 │ Planar          │  inf     │   inf       │ Air        │       0 │       7.86509   │\n",
      "│  1 │ Standard        │  374.628 │     3.23627 │ N-SK15     │       0 │       7.86509   │\n",
      "│  2 │ Standard        │ -257.799 │    74.0828  │ Air        │       0 │       7.83901   │\n",
      "│  3 │ Stop - Standard │  392.387 │     7.54301 │ N-SK2HT    │       0 │       4.72577   │\n",
      "│  4 │ Standard        │ -674.886 │    88.9955  │ Air        │       0 │       4.49423   │\n",
      "│  5 │ Planar          │  inf     │   nan       │ Air        │       0 │       0.0444557 │\n",
      "╘════╧═════════════════╧══════════╧═════════════╧════════════╧═════════╧═════════════════╛\n"
     ]
    }
   ],
   "source": [
    "for _ in range(5):\n",
    "    action = env.action_space.sample()\n",
    "    obs, reward, done, truncated, info = env.step(action)\n",
    "    env.lens.info()  # print lens info after each step"
   ]
  },
  {
   "cell_type": "markdown",
   "metadata": {},
   "source": [
    "# View the lens after 5 random steps\n",
    "\n",
    "- NOTE: there is no guarantee that these random steps will generate a valid design."
   ]
  },
  {
   "cell_type": "code",
   "execution_count": 5,
   "metadata": {},
   "outputs": [
    {
     "data": {
      "image/png": "[encoded data removed]",
      "text/plain": [
       "<Figure size 1000x400 with 1 Axes>"
      ]
     },
     "metadata": {},
     "output_type": "display_data"
    }
   ],
   "source": [
    "env.lens.draw()"
   ]
  }
 ],
 "metadata": {
  "kernelspec": {
   "display_name": ".venv",
   "language": "python",
   "name": "python3"
  },
  "language_info": {
   "codemirror_mode": {
    "name": "ipython",
    "version": 3
   },
   "file_extension": ".py",
   "mimetype": "text/x-python",
   "name": "python",
   "nbconvert_exporter": "python",
   "pygments_lexer": "ipython3",
   "version": "3.12.4"
  }
 },
 "nbformat": 4,
 "nbformat_minor": 2
}
